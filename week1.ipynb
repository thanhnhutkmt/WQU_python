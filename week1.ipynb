{
 "cells": [
  {
   "cell_type": "code",
   "execution_count": 17,
   "metadata": {},
   "outputs": [
    {
     "ename": "SyntaxError",
     "evalue": "invalid syntax (<ipython-input-17-ea0e45f81090>, line 1)",
     "output_type": "error",
     "traceback": [
      "\u001b[1;36m  File \u001b[1;32m\"<ipython-input-17-ea0e45f81090>\"\u001b[1;36m, line \u001b[1;32m1\u001b[0m\n\u001b[1;33m    def print_todo_args(*args): //gather all arguments into tuple named args\u001b[0m\n\u001b[1;37m                                 ^\u001b[0m\n\u001b[1;31mSyntaxError\u001b[0m\u001b[1;31m:\u001b[0m invalid syntax\n"
     ]
    }
   ],
   "source": [
    "def print_todo_args(*args): //gather all arguments into tuple named args\n",
    "    print('I need to:')\n",
    "    for arg in args:\n",
    "        print(' ' + arg)\n",
    "        \n",
    "arguments = ['watch_tv', 'read', 'eat', 'sleep']\n",
    "print_todo_args(arguments)\n",
    "arguments.append('research AI')\n",
    "print_todo_args(arguments)"
   ]
  },
  {
   "cell_type": "code",
   "execution_count": null,
   "metadata": {},
   "outputs": [],
   "source": [
    "print(list(range(0, 10, 3)))\n",
    "print(list(range(104, 100, -1)))\n",
    "print(list(range(5)))"
   ]
  },
  {
   "cell_type": "code",
   "execution_count": 18,
   "metadata": {},
   "outputs": [
    {
     "name": "stdout",
     "output_type": "stream",
     "text": [
      "[0, 1, 2, 3, 4, 5, 6, 7, 8, 9]\n",
      "[0, 1, 2, 3, 4, 5, 6, 7, 8]\n",
      "8\n",
      "[6, 7]\n",
      "[0, 2, 4, 6]\n"
     ]
    }
   ],
   "source": [
    "list = [0,1,2,3,4,5,6,7,8,9]\n",
    "print(list)\n",
    "del list[-1]\n",
    "print(list)\n",
    "print(list.pop())\n",
    "print(list[-2:])\n",
    "print(list[::2])"
   ]
  },
  {
   "cell_type": "code",
   "execution_count": 19,
   "metadata": {},
   "outputs": [
    {
     "name": "stdout",
     "output_type": "stream",
     "text": [
      "{'Dylan', True, 26, 167.6}\n"
     ]
    }
   ],
   "source": [
    "# a set no order, no index\n",
    "example_set = {'Dylan', 26, 167.6, True}\n",
    "print(example_set)\n"
   ]
  },
  {
   "cell_type": "code",
   "execution_count": 20,
   "metadata": {},
   "outputs": [
    {
     "name": "stdout",
     "output_type": "stream",
     "text": [
      "{'Dylan', True, 26, 167.6}\n",
      "Dylan\n",
      "{True, 26, 167.6}\n"
     ]
    }
   ],
   "source": [
    "# error : print(example_set[0])\n",
    "print(example_set)\n",
    "print(example_set.pop())\n",
    "print(example_set)"
   ]
  },
  {
   "cell_type": "code",
   "execution_count": 21,
   "metadata": {},
   "outputs": [
    {
     "name": "stdout",
     "output_type": "stream",
     "text": [
      "{True, 'True', 167.6, 26}\n",
      "{True, 58.1, 'True', 167.6, 'brown', 26}\n"
     ]
    }
   ],
   "source": [
    "example_set.add('True')\n",
    "print(example_set)\n",
    "example_set.update([58.1, 'brown'])\n",
    "print(example_set)"
   ]
  },
  {
   "cell_type": "code",
   "execution_count": 25,
   "metadata": {},
   "outputs": [
    {
     "data": {
      "text/plain": [
       "[4, 17, 8, 0, 16, 11, 10, 20, 21, 18]"
      ]
     },
     "execution_count": 25,
     "metadata": {},
     "output_type": "execute_result"
    }
   ],
   "source": [
    "piles = [2.83, 8.23, 9.38, 10.23, 25.58, 0.42, 5.37, 28.10, 32.14, 7.31]\n",
    "def hash_function(x):\n",
    "    return int(x*100%31)\n",
    "[hash_function(pile) for pile in piles]"
   ]
  },
  {
   "cell_type": "code",
   "execution_count": 26,
   "metadata": {},
   "outputs": [
    {
     "name": "stdout",
     "output_type": "stream",
     "text": [
      "10\n"
     ]
    }
   ],
   "source": [
    "print(hash_function(5.37))"
   ]
  },
  {
   "cell_type": "code",
   "execution_count": 29,
   "metadata": {},
   "outputs": [
    {
     "name": "stdout",
     "output_type": "stream",
     "text": [
      "{'biology', 'his', 'eng'}\n",
      "{'theatre', 'his', 'computer', 'biology', 'eng'}\n",
      "{'theatre'}\n",
      "{'computer'}\n",
      "{'theatre', 'computer'}\n"
     ]
    }
   ],
   "source": [
    "sac = {'his', 'eng', 'biology', 'theatre'}\n",
    "sbc = {'his', 'eng', 'biology', 'computer'}\n",
    "\n",
    "print(sac.intersection(sbc))\n",
    "print(sac.union(sbc))\n",
    "print(sac.difference(sbc))\n",
    "print(sbc.difference(sac))\n",
    "print(sac.symmetric_difference(sbc))"
   ]
  },
  {
   "cell_type": "code",
   "execution_count": 31,
   "metadata": {},
   "outputs": [
    {
     "name": "stdout",
     "output_type": "stream",
     "text": [
      "his hobby is biology\n"
     ]
    }
   ],
   "source": [
    "print('his hobby is %s' % sac.pop())"
   ]
  },
  {
   "cell_type": "code",
   "execution_count": 5,
   "metadata": {},
   "outputs": [
    {
     "name": "stdout",
     "output_type": "stream",
     "text": [
      "I need to:\n",
      " watch_tv\n",
      " read\n",
      " eat\n",
      " sleep\n",
      "I need to:\n",
      " watch_tv\n",
      " read\n",
      " eat\n",
      " sleep\n",
      " research AI\n"
     ]
    }
   ],
   "source": [
    "def print_todo_args(*args): #gather all arguments into tuple named args\n",
    "    print('I need to:')\n",
    "    for arg in args:\n",
    "        print(' ' + arg)\n",
    "        \n",
    "def print_todo_args1(args): #gather all arguments into tuple named args\n",
    "    print('I need to:')\n",
    "    for arg in args:\n",
    "        print(' ' + arg)\n",
    "        \n",
    "print_todo_args('watch_tv', 'read', 'eat', 'sleep')\n",
    "arguments = ['watch_tv', 'read', 'eat', 'sleep']\n",
    "arguments.append('research AI')\n",
    "print_todo_args1(arguments)"
   ]
  },
  {
   "cell_type": "code",
   "execution_count": null,
   "metadata": {},
   "outputs": [],
   "source": []
  }
 ],
 "metadata": {
  "kernelspec": {
   "display_name": "Python 3",
   "language": "python",
   "name": "python3"
  },
  "language_info": {
   "codemirror_mode": {
    "name": "ipython",
    "version": 3
   },
   "file_extension": ".py",
   "mimetype": "text/x-python",
   "name": "python",
   "nbconvert_exporter": "python",
   "pygments_lexer": "ipython3",
   "version": "3.7.3"
  }
 },
 "nbformat": 4,
 "nbformat_minor": 2
}
